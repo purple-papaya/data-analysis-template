{
 "cells": [
  {
   "cell_type": "markdown",
   "id": "f4344798",
   "metadata": {},
   "source": [
    "# Project Title: [Your Analysis Title]\n",
    "**Author:** [Your Name]  \n",
    "**Date:** [Date]  \n",
    "**Purpose:** [Brief description of what this notebook does]\n",
    "\n",
    "## Table of Contents\n",
    "1. [Data Loading](#data-loading)\n",
    "2. [Exploratory Analysis](#eda)\n",
    "3. [Results](#results)\n",
    "4. [Conclusions](#conclusions)"
   ]
  },
  {
   "cell_type": "code",
   "execution_count": null,
   "id": "9ddfa81e",
   "metadata": {
    "vscode": {
     "languageId": "plaintext"
    }
   },
   "outputs": [],
   "source": [
    "import pandas as pd\n",
    "import numpy as np\n",
    "import matplotlib.pyplot as plt\n",
    "import seaborn as sns\n",
    "from pathlib import Path\n",
    "\n",
    "sns.set_style(\"whitegrid\")\n",
    "plt.rcParams['figure.figsize'] = (12, 6)"
   ]
  },
  {
   "cell_type": "code",
   "execution_count": null,
   "id": "91d891a3",
   "metadata": {
    "vscode": {
     "languageId": "plaintext"
    }
   },
   "outputs": [],
   "source": [
    "DATA_DIR = Path(\"../data/raw\")\n",
    "OUTPUT_DIR = Path(\"../reports/figures\")"
   ]
  },
  {
   "cell_type": "code",
   "execution_count": null,
   "id": "d073cff6",
   "metadata": {
    "vscode": {
     "languageId": "plaintext"
    }
   },
   "outputs": [],
   "source": [
    "def load_data_pandas(filepath):\n",
    "    \"\"\"Load and return dataset from filepath.\"\"\"\n",
    "    return pd.read_csv(filepath)\n",
    "\n",
    "def load_data_polars(filepath):\n",
    "    \"\"\"Load data with Polars (faster for large files).\"\"\"\n",
    "    return pl.read_csv(filepath)"
   ]
  },
  {
   "cell_type": "code",
   "execution_count": null,
   "id": "186cf655",
   "metadata": {
    "vscode": {
     "languageId": "plaintext"
    }
   },
   "outputs": [],
   "source": [
    "## Data Loading\n",
    "Choose Pandas for small-medium datasets, Polars for large datasets..."
   ]
  }
 ],
 "metadata": {
  "language_info": {
   "name": "python"
  }
 },
 "nbformat": 4,
 "nbformat_minor": 5
}
